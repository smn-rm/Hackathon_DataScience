{
 "cells": [
  {
   "cell_type": "code",
   "execution_count": 1,
   "metadata": {
    "ExecuteTime": {
     "end_time": "2023-12-08T15:43:30.276581200Z",
     "start_time": "2023-12-08T15:43:30.259747200Z"
    }
   },
   "outputs": [],
   "source": [
    "from statsmodels.stats.outliers_influence import variance_inflation_factor\n",
    "import pandas as pd"
   ]
  },
  {
   "cell_type": "code",
   "execution_count": 2,
   "metadata": {
    "ExecuteTime": {
     "end_time": "2023-12-08T15:43:30.280107700Z",
     "start_time": "2023-12-08T15:43:30.277550700Z"
    }
   },
   "outputs": [],
   "source": [
    "# Path to Wuerth Data\n",
    "DATA_PATH = \"../01_data/dataset_wuerth.csv\""
   ]
  },
  {
   "cell_type": "code",
   "execution_count": 3,
   "metadata": {
    "ExecuteTime": {
     "end_time": "2023-12-08T15:43:30.382797200Z",
     "start_time": "2023-12-08T15:43:30.282103700Z"
    }
   },
   "outputs": [],
   "source": [
    "data = pd.read_csv(DATA_PATH)\n",
    "data = data.select_dtypes(exclude=[\"object\"])"
   ]
  },
  {
   "cell_type": "code",
   "execution_count": 4,
   "metadata": {
    "ExecuteTime": {
     "end_time": "2023-12-08T15:43:30.387693300Z",
     "start_time": "2023-12-08T15:43:30.385692600Z"
    }
   },
   "outputs": [],
   "source": [
    "def calculate_vif(df):\n",
    "    # Add a constant column for VIF calculation\n",
    "    df_vif = df.assign(const=1)\n",
    "\n",
    "    # Calculating VIF for each feature\n",
    "    vif_data = pd.DataFrame(\n",
    "        {\n",
    "            \"feature\": df_vif.columns,\n",
    "            \"VIF\": [\n",
    "                variance_inflation_factor(df_vif.values, i)\n",
    "                for i in range(df_vif.shape[1])\n",
    "            ],\n",
    "        }\n",
    "    )\n",
    "\n",
    "    return vif_data\n",
    "\n",
    "\n",
    "vif_threshold = 10"
   ]
  },
  {
   "cell_type": "code",
   "execution_count": 5,
   "metadata": {
    "ExecuteTime": {
     "end_time": "2023-12-08T15:43:32.050430900Z",
     "start_time": "2023-12-08T15:43:30.386695400Z"
    }
   },
   "outputs": [
    {
     "name": "stderr",
     "output_type": "stream",
     "text": [
      "C:\\Users\\sire4\\Documents\\GitHub\\ADL\\venv\\Lib\\site-packages\\statsmodels\\stats\\outliers_influence.py:198: RuntimeWarning: divide by zero encountered in scalar divide\n",
      "  vif = 1. / (1. - r_squared_i)\n"
     ]
    },
    {
     "data": {
      "text/plain": "                feature          VIF\n6                 sales          inf\n7          rev_salesrep          inf\n8     rev_branch_office          inf\n9         rev_ebusiness          inf\n10   rev_internal_staff          inf\n11           rev_others          inf\n12         contr_margin    20.839360\n14         orders_count    33.458079\n16  diff_products_count    10.340804\n25        count_buydays    68.896036\n26       count_buyweeks    42.764231\n27      count_buymonths    11.289605\n38                const  1226.364791",
      "text/html": "<div>\n<style scoped>\n    .dataframe tbody tr th:only-of-type {\n        vertical-align: middle;\n    }\n\n    .dataframe tbody tr th {\n        vertical-align: top;\n    }\n\n    .dataframe thead th {\n        text-align: right;\n    }\n</style>\n<table border=\"1\" class=\"dataframe\">\n  <thead>\n    <tr style=\"text-align: right;\">\n      <th></th>\n      <th>feature</th>\n      <th>VIF</th>\n    </tr>\n  </thead>\n  <tbody>\n    <tr>\n      <th>6</th>\n      <td>sales</td>\n      <td>inf</td>\n    </tr>\n    <tr>\n      <th>7</th>\n      <td>rev_salesrep</td>\n      <td>inf</td>\n    </tr>\n    <tr>\n      <th>8</th>\n      <td>rev_branch_office</td>\n      <td>inf</td>\n    </tr>\n    <tr>\n      <th>9</th>\n      <td>rev_ebusiness</td>\n      <td>inf</td>\n    </tr>\n    <tr>\n      <th>10</th>\n      <td>rev_internal_staff</td>\n      <td>inf</td>\n    </tr>\n    <tr>\n      <th>11</th>\n      <td>rev_others</td>\n      <td>inf</td>\n    </tr>\n    <tr>\n      <th>12</th>\n      <td>contr_margin</td>\n      <td>20.839360</td>\n    </tr>\n    <tr>\n      <th>14</th>\n      <td>orders_count</td>\n      <td>33.458079</td>\n    </tr>\n    <tr>\n      <th>16</th>\n      <td>diff_products_count</td>\n      <td>10.340804</td>\n    </tr>\n    <tr>\n      <th>25</th>\n      <td>count_buydays</td>\n      <td>68.896036</td>\n    </tr>\n    <tr>\n      <th>26</th>\n      <td>count_buyweeks</td>\n      <td>42.764231</td>\n    </tr>\n    <tr>\n      <th>27</th>\n      <td>count_buymonths</td>\n      <td>11.289605</td>\n    </tr>\n    <tr>\n      <th>38</th>\n      <td>const</td>\n      <td>1226.364791</td>\n    </tr>\n  </tbody>\n</table>\n</div>"
     },
     "execution_count": 5,
     "metadata": {},
     "output_type": "execute_result"
    }
   ],
   "source": [
    "vif_data = calculate_vif(data)\n",
    "\n",
    "columns_critical = vif_data[vif_data[\"VIF\"] > vif_threshold]\n",
    "columns_critical"
   ]
  },
  {
   "cell_type": "code",
   "execution_count": 6,
   "metadata": {
    "ExecuteTime": {
     "end_time": "2023-12-08T15:43:34.166595400Z",
     "start_time": "2023-12-08T15:43:32.051430400Z"
    }
   },
   "outputs": [
    {
     "data": {
      "text/plain": "                feature          VIF\n11         contr_margin    20.839360\n13         orders_count    33.458079\n15  diff_products_count    10.340804\n24        count_buydays    68.896036\n25       count_buyweeks    42.764231\n26      count_buymonths    11.289605\n37                const  1226.364791",
      "text/html": "<div>\n<style scoped>\n    .dataframe tbody tr th:only-of-type {\n        vertical-align: middle;\n    }\n\n    .dataframe tbody tr th {\n        vertical-align: top;\n    }\n\n    .dataframe thead th {\n        text-align: right;\n    }\n</style>\n<table border=\"1\" class=\"dataframe\">\n  <thead>\n    <tr style=\"text-align: right;\">\n      <th></th>\n      <th>feature</th>\n      <th>VIF</th>\n    </tr>\n  </thead>\n  <tbody>\n    <tr>\n      <th>11</th>\n      <td>contr_margin</td>\n      <td>20.839360</td>\n    </tr>\n    <tr>\n      <th>13</th>\n      <td>orders_count</td>\n      <td>33.458079</td>\n    </tr>\n    <tr>\n      <th>15</th>\n      <td>diff_products_count</td>\n      <td>10.340804</td>\n    </tr>\n    <tr>\n      <th>24</th>\n      <td>count_buydays</td>\n      <td>68.896036</td>\n    </tr>\n    <tr>\n      <th>25</th>\n      <td>count_buyweeks</td>\n      <td>42.764231</td>\n    </tr>\n    <tr>\n      <th>26</th>\n      <td>count_buymonths</td>\n      <td>11.289605</td>\n    </tr>\n    <tr>\n      <th>37</th>\n      <td>const</td>\n      <td>1226.364791</td>\n    </tr>\n  </tbody>\n</table>\n</div>"
     },
     "execution_count": 6,
     "metadata": {},
     "output_type": "execute_result"
    }
   ],
   "source": [
    "data = data.drop(columns=[\"sales\"])\n",
    "vif_data = calculate_vif(data)\n",
    "\n",
    "columns_critical = vif_data[vif_data[\"VIF\"] > vif_threshold]\n",
    "columns_critical"
   ]
  },
  {
   "cell_type": "code",
   "execution_count": 7,
   "metadata": {
    "ExecuteTime": {
     "end_time": "2023-12-08T15:43:36.024456Z",
     "start_time": "2023-12-08T15:43:34.166595400Z"
    }
   },
   "outputs": [
    {
     "data": {
      "text/plain": "                feature          VIF\n11         contr_margin    20.839347\n13         orders_count    31.625659\n15  diff_products_count    10.205166\n24        count_buydays    56.681431\n25       count_buyweeks    21.585971\n36                const  1226.058175",
      "text/html": "<div>\n<style scoped>\n    .dataframe tbody tr th:only-of-type {\n        vertical-align: middle;\n    }\n\n    .dataframe tbody tr th {\n        vertical-align: top;\n    }\n\n    .dataframe thead th {\n        text-align: right;\n    }\n</style>\n<table border=\"1\" class=\"dataframe\">\n  <thead>\n    <tr style=\"text-align: right;\">\n      <th></th>\n      <th>feature</th>\n      <th>VIF</th>\n    </tr>\n  </thead>\n  <tbody>\n    <tr>\n      <th>11</th>\n      <td>contr_margin</td>\n      <td>20.839347</td>\n    </tr>\n    <tr>\n      <th>13</th>\n      <td>orders_count</td>\n      <td>31.625659</td>\n    </tr>\n    <tr>\n      <th>15</th>\n      <td>diff_products_count</td>\n      <td>10.205166</td>\n    </tr>\n    <tr>\n      <th>24</th>\n      <td>count_buydays</td>\n      <td>56.681431</td>\n    </tr>\n    <tr>\n      <th>25</th>\n      <td>count_buyweeks</td>\n      <td>21.585971</td>\n    </tr>\n    <tr>\n      <th>36</th>\n      <td>const</td>\n      <td>1226.058175</td>\n    </tr>\n  </tbody>\n</table>\n</div>"
     },
     "execution_count": 7,
     "metadata": {},
     "output_type": "execute_result"
    }
   ],
   "source": [
    "data = data.drop(columns=[\"count_buymonths\"])\n",
    "vif_data = calculate_vif(data)\n",
    "\n",
    "columns_critical = vif_data[vif_data[\"VIF\"] > vif_threshold]\n",
    "columns_critical"
   ]
  }
 ],
 "metadata": {
  "kernelspec": {
   "display_name": ".venv",
   "language": "python",
   "name": "python3"
  },
  "language_info": {
   "codemirror_mode": {
    "name": "ipython",
    "version": 3
   },
   "file_extension": ".py",
   "mimetype": "text/x-python",
   "name": "python",
   "nbconvert_exporter": "python",
   "pygments_lexer": "ipython3",
   "version": "3.11.6"
  }
 },
 "nbformat": 4,
 "nbformat_minor": 2
}
